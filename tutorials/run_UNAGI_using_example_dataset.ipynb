{
 "cells": [
  {
   "cell_type": "markdown",
   "metadata": {},
   "source": [
    "# Configure the model architecture and training parameters\n",
    "\n",
    "This tutorial provides a step-by-step guide on configuring the model architectures, training hyperparameters, and analysis of time-series single dataset using UNAGI. We demonstrate the capabilities of UNAGI by applying it to scRNA-seq data sampled from a single-nuclei RNA sequencing data.\n",
    "\n",
    "\n"
   ]
  },
  {
   "cell_type": "code",
   "execution_count": 1,
   "metadata": {},
   "outputs": [],
   "source": [
    "import warnings\n",
    "warnings.filterwarnings('ignore')\n",
    "from UNAGI import UNAGI\n",
    "unagi = UNAGI()"
   ]
  },
  {
   "cell_type": "markdown",
   "metadata": {},
   "source": [
    "## Part 1: Setup and load the datasets\n",
    "\n",
    "After loading UNAGI package, we need to setup the data for UNAGI training.\n",
    "\n",
    "-   We need to specify the data path of your h5ad files after stage segmentation. e.g. '../data/small/0.h5ad'. Then UNAGI will load all h5ad files in the target directory. \n",
    "\n",
    "-   UNAGI requires the total number of time-points the dataset has as the input. e.g. total_stage=4\n",
    "\n",
    "-   UNAGI requires the key of time-points attribute in the annData.obs table.\n",
    "\n",
    "-   If the dataset is not splited into individual stages, you can specify the splited_dataset as False to segment the dataset.\n",
    "\n",
    "-   To build the K-Nearest Neighbors (KNN) connectivity matrix in Graph convolution training, the neighbors number of KNN should be defined. The default value is 25. \n",
    "\n",
    "-   You can also specify how many threads you want to use when using UNAGI. The default number of threads is 20. "
   ]
  },
  {
   "cell_type": "code",
   "execution_count": 2,
   "metadata": {},
   "outputs": [],
   "source": [
    "unagi.setup_data('../UNAGI/data/example',total_stage=4,stage_key='stage')"
   ]
  },
  {
   "cell_type": "markdown",
   "metadata": {},
   "source": [
    "## Part 2: Configure the model architecture of UNAGI and training hyper-parameters\n",
    "\n",
    "First, it's mandatory to specify the **task** your are executing. (e.g. we call the example dataset as task='small_sample') The **task** is the identifier of your experiments and you can reterive the trained model and the results of each iteration at '../data/**task**/' directory. \n",
    "\n",
    "Next, you will need to specify the distribution of you single cell data. UNAGI provides negative binomial (NB), zero-inflated negative binomial (ZINB), zero-inflated log normal, and normal distribution to model your single cell data.\n",
    "\n",
    "You can use the *device* keyword to specify the device you want to use for training.\n",
    "\n",
    "'epoch_initial': the number of training epochs for the first iteration.\n",
    "\n",
    "'epoch_iter': the number of training epochs for the iterative training.\n",
    "\n",
    "'max_iter': the total number of iterations UNAGI will run\n",
    "\n",
    "'BATCHSIZE': the batch size of a mini-batch\n",
    "\n",
    "'lr': the learning rate of Graph VAE\n",
    "\n",
    "'lr_dis': the learning rate of the adversarial discriminator\n",
    "\n",
    "'latent_dim': the dimension of Z space\n",
    "\n",
    "'hiddem_dim': the neuron size of each fully connected layers\n",
    "\n",
    "'graph_dim': the dimension of graph representation\n",
    "\n",
    "After settingt the training hyper parameters and model architectures, you can use `unagi.run_UNAGI()` to start training. "
   ]
  },
  {
   "cell_type": "code",
   "execution_count": 3,
   "metadata": {},
   "outputs": [
    {
     "name": "stdout",
     "output_type": "stream",
     "text": [
      "Species: Running on Human data\n",
      "...\n",
      "0\n"
     ]
    },
    {
     "ename": "KeyboardInterrupt",
     "evalue": "",
     "output_type": "error",
     "traceback": [
      "\u001b[0;31m---------------------------------------------------------------------------\u001b[0m",
      "\u001b[0;31mKeyboardInterrupt\u001b[0m                         Traceback (most recent call last)",
      "Cell \u001b[0;32mIn[3], line 2\u001b[0m\n\u001b[1;32m      1\u001b[0m unagi\u001b[38;5;241m.\u001b[39msetup_training(task\u001b[38;5;241m=\u001b[39m\u001b[38;5;124m'\u001b[39m\u001b[38;5;124mexample\u001b[39m\u001b[38;5;124m'\u001b[39m,dist\u001b[38;5;241m=\u001b[39m\u001b[38;5;124m'\u001b[39m\u001b[38;5;124mziln\u001b[39m\u001b[38;5;124m'\u001b[39m,device\u001b[38;5;241m=\u001b[39m\u001b[38;5;124m'\u001b[39m\u001b[38;5;124mcuda:0\u001b[39m\u001b[38;5;124m'\u001b[39m,GPU\u001b[38;5;241m=\u001b[39m\u001b[38;5;28;01mTrue\u001b[39;00m,epoch_iter\u001b[38;5;241m=\u001b[39m\u001b[38;5;241m5\u001b[39m,epoch_initial\u001b[38;5;241m=\u001b[39m\u001b[38;5;241m1\u001b[39m,max_iter\u001b[38;5;241m=\u001b[39m\u001b[38;5;241m3\u001b[39m,BATCHSIZE\u001b[38;5;241m=\u001b[39m\u001b[38;5;241m560\u001b[39m)\n\u001b[0;32m----> 2\u001b[0m \u001b[43munagi\u001b[49m\u001b[38;5;241;43m.\u001b[39;49m\u001b[43mrun_UNAGI\u001b[49m\u001b[43m(\u001b[49m\u001b[43midrem_dir\u001b[49m\u001b[43m \u001b[49m\u001b[38;5;241;43m=\u001b[39;49m\u001b[43m \u001b[49m\u001b[38;5;124;43m'\u001b[39;49m\u001b[38;5;124;43m../../idrem\u001b[39;49m\u001b[38;5;124;43m'\u001b[39;49m\u001b[43m)\u001b[49m\n",
      "File \u001b[0;32m~/anaconda3/envs/wks/lib/python3.9/site-packages/UNAGI-0.2.0-py3.9.egg/UNAGI/UNAGI_tool.py:268\u001b[0m, in \u001b[0;36mUNAGI.run_UNAGI\u001b[0;34m(self, idrem_dir)\u001b[0m\n\u001b[1;32m    266\u001b[0m     \u001b[38;5;28;01melse\u001b[39;00m:\n\u001b[1;32m    267\u001b[0m         unagi_runner\u001b[38;5;241m.\u001b[39mset_up_iDREM(Minimum_Absolute_Log_Ratio_Expression \u001b[38;5;241m=\u001b[39m \u001b[38;5;28mself\u001b[39m\u001b[38;5;241m.\u001b[39miDREM_parameters[\u001b[38;5;124m'\u001b[39m\u001b[38;5;124mMinimum_Absolute_Log_Ratio_Expression\u001b[39m\u001b[38;5;124m'\u001b[39m], Convergence_Likelihood \u001b[38;5;241m=\u001b[39m \u001b[38;5;28mself\u001b[39m\u001b[38;5;241m.\u001b[39miDREM_parameters[\u001b[38;5;124m'\u001b[39m\u001b[38;5;124mConvergence_Likelihood\u001b[39m\u001b[38;5;124m'\u001b[39m], Minimum_Standard_Deviation \u001b[38;5;241m=\u001b[39m \u001b[38;5;28mself\u001b[39m\u001b[38;5;241m.\u001b[39miDREM_parameters[\u001b[38;5;124m'\u001b[39m\u001b[38;5;124mMinimum_Standard_Deviation\u001b[39m\u001b[38;5;124m'\u001b[39m])\n\u001b[0;32m--> 268\u001b[0m \u001b[43munagi_runner\u001b[49m\u001b[38;5;241;43m.\u001b[39;49m\u001b[43mrun\u001b[49m\u001b[43m(\u001b[49m\u001b[43m)\u001b[49m\n",
      "File \u001b[0;32m~/anaconda3/envs/wks/lib/python3.9/site-packages/UNAGI-0.2.0-py3.9.egg/UNAGI/train/runner.py:265\u001b[0m, in \u001b[0;36mUNAGI_runner.run\u001b[0;34m(self)\u001b[0m\n\u001b[1;32m    263\u001b[0m \u001b[38;5;28;01melse\u001b[39;00m:\n\u001b[1;32m    264\u001b[0m     is_iterative \u001b[38;5;241m=\u001b[39m \u001b[38;5;28;01mTrue\u001b[39;00m\n\u001b[0;32m--> 265\u001b[0m \u001b[38;5;28;43mself\u001b[39;49m\u001b[38;5;241;43m.\u001b[39;49m\u001b[43mtrainer\u001b[49m\u001b[38;5;241;43m.\u001b[39;49m\u001b[43mtrain\u001b[49m\u001b[43m(\u001b[49m\u001b[38;5;28;43mself\u001b[39;49m\u001b[38;5;241;43m.\u001b[39;49m\u001b[43mall_in_one\u001b[49m\u001b[43m,\u001b[49m\u001b[38;5;28;43mself\u001b[39;49m\u001b[38;5;241;43m.\u001b[39;49m\u001b[43miteration\u001b[49m\u001b[43m,\u001b[49m\u001b[43mtarget_dir\u001b[49m\u001b[38;5;241;43m=\u001b[39;49m\u001b[38;5;28;43mself\u001b[39;49m\u001b[38;5;241;43m.\u001b[39;49m\u001b[43mdata_path\u001b[49m\u001b[43m,\u001b[49m\u001b[43madversarial\u001b[49m\u001b[38;5;241;43m=\u001b[39;49m\u001b[38;5;28;43mself\u001b[39;49m\u001b[38;5;241;43m.\u001b[39;49m\u001b[43madversarial\u001b[49m\u001b[43m,\u001b[49m\u001b[43mis_iterative\u001b[49m\u001b[38;5;241;43m=\u001b[39;49m\u001b[43mis_iterative\u001b[49m\u001b[43m)\u001b[49m\n\u001b[1;32m    266\u001b[0m \u001b[38;5;28mself\u001b[39m\u001b[38;5;241m.\u001b[39mrun_CPO()\n\u001b[1;32m    267\u001b[0m \u001b[38;5;28mself\u001b[39m\u001b[38;5;241m.\u001b[39mupdate_cell_attributes()\n",
      "File \u001b[0;32m~/anaconda3/envs/wks/lib/python3.9/site-packages/UNAGI-0.2.0-py3.9.egg/UNAGI/train/trainer.py:245\u001b[0m, in \u001b[0;36mUNAGI_trainer.train\u001b[0;34m(self, adata, iteration, target_dir, adversarial, is_iterative)\u001b[0m\n\u001b[1;32m    243\u001b[0m \u001b[38;5;28;01mfor\u001b[39;00m epoch \u001b[38;5;129;01min\u001b[39;00m \u001b[38;5;28mrange\u001b[39m(epoch_range):\n\u001b[1;32m    244\u001b[0m     \u001b[38;5;28mprint\u001b[39m(epoch)\n\u001b[0;32m--> 245\u001b[0m     total_epoch_loss_train \u001b[38;5;241m=\u001b[39m \u001b[38;5;28;43mself\u001b[39;49m\u001b[38;5;241;43m.\u001b[39;49m\u001b[43mtrain_model\u001b[49m\u001b[43m(\u001b[49m\u001b[43madata\u001b[49m\u001b[43m,\u001b[49m\u001b[43m \u001b[49m\u001b[43mvae\u001b[49m\u001b[43m,\u001b[49m\u001b[43mdis\u001b[49m\u001b[43m,\u001b[49m\u001b[43m \u001b[49m\u001b[43mcell_loader\u001b[49m\u001b[43m,\u001b[49m\u001b[43m \u001b[49m\u001b[43madj\u001b[49m\u001b[43m,\u001b[49m\u001b[43m \u001b[49m\u001b[43madversarial\u001b[49m\u001b[38;5;241;43m=\u001b[39;49m\u001b[43madversarial\u001b[49m\u001b[43m,\u001b[49m\u001b[43mgeneWeights\u001b[49m\u001b[38;5;241;43m=\u001b[39;49m\u001b[43mgeneWeights\u001b[49m\u001b[43m \u001b[49m\u001b[38;5;28;43;01mif\u001b[39;49;00m\u001b[43m \u001b[49m\u001b[43mis_iterative\u001b[49m\u001b[43m \u001b[49m\u001b[38;5;28;43;01melse\u001b[39;49;00m\u001b[43m \u001b[49m\u001b[38;5;28;43;01mNone\u001b[39;49;00m\u001b[43m,\u001b[49m\u001b[43m \u001b[49m\u001b[43muse_cuda\u001b[49m\u001b[38;5;241;43m=\u001b[39;49m\u001b[38;5;28;43mself\u001b[39;49m\u001b[38;5;241;43m.\u001b[39;49m\u001b[43mcuda\u001b[49m\u001b[43m)\u001b[49m\n\u001b[1;32m    246\u001b[0m     train_elbo\u001b[38;5;241m.\u001b[39mappend(\u001b[38;5;241m-\u001b[39mtotal_epoch_loss_train)\n\u001b[1;32m    247\u001b[0m     \u001b[38;5;28mprint\u001b[39m(\u001b[38;5;124m\"\u001b[39m\u001b[38;5;124m[epoch \u001b[39m\u001b[38;5;132;01m%03d\u001b[39;00m\u001b[38;5;124m]  average training loss: \u001b[39m\u001b[38;5;132;01m%.4f\u001b[39;00m\u001b[38;5;124m\"\u001b[39m \u001b[38;5;241m%\u001b[39m (epoch, total_epoch_loss_train))\n",
      "File \u001b[0;32m~/anaconda3/envs/wks/lib/python3.9/site-packages/UNAGI-0.2.0-py3.9.egg/UNAGI/train/trainer.py:59\u001b[0m, in \u001b[0;36mUNAGI_trainer.train_model\u001b[0;34m(self, adata, vae, dis, train_loader, adj, adversarial, geneWeights, use_cuda)\u001b[0m\n\u001b[1;32m     57\u001b[0m \u001b[38;5;28;01melse\u001b[39;00m:\n\u001b[1;32m     58\u001b[0m     end \u001b[38;5;241m=\u001b[39m (\u001b[38;5;241m1\u001b[39m\u001b[38;5;241m+\u001b[39mi)\u001b[38;5;241m*\u001b[39m\u001b[38;5;28mself\u001b[39m\u001b[38;5;241m.\u001b[39mbatch_size\n\u001b[0;32m---> 59\u001b[0m neighbourhood \u001b[38;5;241m=\u001b[39m [item \u001b[38;5;28;01mfor\u001b[39;00m sublist \u001b[38;5;129;01min\u001b[39;00m neighbourhoods \u001b[38;5;28;01mfor\u001b[39;00m item \u001b[38;5;129;01min\u001b[39;00m sublist]\n\u001b[1;32m     60\u001b[0m temp_x[neighbourhood] \u001b[38;5;241m=\u001b[39m torch\u001b[38;5;241m.\u001b[39mTensor(adata\u001b[38;5;241m.\u001b[39mX)[neighbourhood]\n\u001b[1;32m     61\u001b[0m x \u001b[38;5;241m=\u001b[39m temp_x\n",
      "File \u001b[0;32m~/anaconda3/envs/wks/lib/python3.9/site-packages/UNAGI-0.2.0-py3.9.egg/UNAGI/train/trainer.py:59\u001b[0m, in \u001b[0;36m<listcomp>\u001b[0;34m(.0)\u001b[0m\n\u001b[1;32m     57\u001b[0m \u001b[38;5;28;01melse\u001b[39;00m:\n\u001b[1;32m     58\u001b[0m     end \u001b[38;5;241m=\u001b[39m (\u001b[38;5;241m1\u001b[39m\u001b[38;5;241m+\u001b[39mi)\u001b[38;5;241m*\u001b[39m\u001b[38;5;28mself\u001b[39m\u001b[38;5;241m.\u001b[39mbatch_size\n\u001b[0;32m---> 59\u001b[0m neighbourhood \u001b[38;5;241m=\u001b[39m [item \u001b[38;5;28;01mfor\u001b[39;00m sublist \u001b[38;5;129;01min\u001b[39;00m neighbourhoods \u001b[38;5;28;01mfor\u001b[39;00m item \u001b[38;5;129;01min\u001b[39;00m sublist]\n\u001b[1;32m     60\u001b[0m temp_x[neighbourhood] \u001b[38;5;241m=\u001b[39m torch\u001b[38;5;241m.\u001b[39mTensor(adata\u001b[38;5;241m.\u001b[39mX)[neighbourhood]\n\u001b[1;32m     61\u001b[0m x \u001b[38;5;241m=\u001b[39m temp_x\n",
      "File \u001b[0;32m~/anaconda3/envs/wks/lib/python3.9/site-packages/torch/_tensor.py:940\u001b[0m, in \u001b[0;36mTensor.__iter__\u001b[0;34m(self)\u001b[0m\n\u001b[1;32m    931\u001b[0m \u001b[38;5;28;01mif\u001b[39;00m torch\u001b[38;5;241m.\u001b[39m_C\u001b[38;5;241m.\u001b[39m_get_tracing_state():\n\u001b[1;32m    932\u001b[0m     warnings\u001b[38;5;241m.\u001b[39mwarn(\n\u001b[1;32m    933\u001b[0m         \u001b[38;5;124m\"\u001b[39m\u001b[38;5;124mIterating over a tensor might cause the trace to be incorrect. \u001b[39m\u001b[38;5;124m\"\u001b[39m\n\u001b[1;32m    934\u001b[0m         \u001b[38;5;124m\"\u001b[39m\u001b[38;5;124mPassing a tensor of different shape won\u001b[39m\u001b[38;5;124m'\u001b[39m\u001b[38;5;124mt change the number of \u001b[39m\u001b[38;5;124m\"\u001b[39m\n\u001b[0;32m   (...)\u001b[0m\n\u001b[1;32m    938\u001b[0m         stacklevel\u001b[38;5;241m=\u001b[39m\u001b[38;5;241m2\u001b[39m,\n\u001b[1;32m    939\u001b[0m     )\n\u001b[0;32m--> 940\u001b[0m \u001b[38;5;28;01mreturn\u001b[39;00m \u001b[38;5;28miter\u001b[39m(\u001b[38;5;28;43mself\u001b[39;49m\u001b[38;5;241;43m.\u001b[39;49m\u001b[43munbind\u001b[49m\u001b[43m(\u001b[49m\u001b[38;5;241;43m0\u001b[39;49m\u001b[43m)\u001b[49m)\n",
      "\u001b[0;31mKeyboardInterrupt\u001b[0m: "
     ]
    }
   ],
   "source": [
    "unagi.setup_training(task='example',dist='ziln',device='cuda:0',GPU=True,epoch_iter=5,epoch_initial=1,max_iter=3,BATCHSIZE=560)\n",
    "unagi.run_UNAGI(idrem_dir = '../../idrem')"
   ]
  },
  {
   "cell_type": "markdown",
   "metadata": {},
   "source": [
    "## Part 3: Perform in-silico perturbations and downstream analysis\n",
    "\n",
    "After training the UNAGI model, you can perfrom downstream tasks including hierarchical static marker discovries \n",
    "parameters: \n",
    "data_path: the directory of the dataset generated by UNAGI\n",
    "iteration: the iteration of the dataset belongs to\n",
    "progressionmarker_background_sampling_times: the number of sampling times to generate the dynamic marker backgrounds\n",
    "target_dir: the directory to store the downstream analysis results and h5ad files\n",
    "customized_drug: the directory to customized drug profile\n",
    "cmap_dir: the directory to the precomputed CMAP database which contains the drug/compounds and their regualted genes and regualated directions."
   ]
  },
  {
   "cell_type": "code",
   "execution_count": null,
   "metadata": {},
   "outputs": [],
   "source": [
    "import warnings\n",
    "warnings.filterwarnings('ignore')\n",
    "from UNAGI import UNAGI\n",
    "unagi = UNAGI()\n",
    "unagi.analyse_UNAGI('../UNAGI/data/example/2/stagedata/org_dataset.h5ad',2,10,target_dir=None,customized_drug='../UNAGI/data/jasper_target_pair.npy',cmap_dir='../../CMAPDirectionDf.npy')"
   ]
  },
  {
   "cell_type": "markdown",
   "metadata": {},
   "source": []
  }
 ],
 "metadata": {
  "kernelspec": {
   "display_name": "wks",
   "language": "python",
   "name": "python3"
  },
  "language_info": {
   "codemirror_mode": {
    "name": "ipython",
    "version": 3
   },
   "file_extension": ".py",
   "mimetype": "text/x-python",
   "name": "python",
   "nbconvert_exporter": "python",
   "pygments_lexer": "ipython3",
   "version": "3.9.18"
  }
 },
 "nbformat": 4,
 "nbformat_minor": 2
}
