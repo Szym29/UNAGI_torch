{
 "cells": [
  {
   "cell_type": "markdown",
   "metadata": {},
   "source": [
    "# Dataset preparation\n",
    "\n",
    "Assign the stage information to the example dataset and separate it into four stages (the example IPF dataset has 4 disease stages.)"
   ]
  },
  {
   "cell_type": "code",
   "execution_count": null,
   "metadata": {},
   "outputs": [],
   "source": [
    "import scanpy as sc\n",
    "import os\n",
    "import warnings\n",
    "warnings.filterwarnings('ignore')\n",
    "\n",
    "PATH_TO_YOUR_DATA = '../../../UNAGI/data/example/dataset.h5ad'\n",
    "adata = sc.read(PATH_TO_YOUR_DATA)\n",
    "adata.obs['stage'] = None #Create a new column in the obs dataframe to store the stage information\n",
    "\n",
    "\n",
    "adata.obs.loc[adata.obs['batch'] == 'batch1', 'stage'] = '0'\n",
    "adata.obs.loc[adata.obs['batch'] == 'batch2', 'stage'] = '1'\n",
    "adata.obs.loc[adata.obs['batch'] == 'batch3', 'stage'] = '2'\n",
    "adata.obs.loc[adata.obs['batch'] == 'batch4', 'stage'] = '3'\n",
    "\n",
    "\n",
    "for each in list(adata.obs['stage'].unique()):\n",
    "    stage_adata = adata[adata.obs['stage'] == each]\n",
    "    print(f'Saving stage {each} data...')\n",
    "    stage_adata.write(f'../../../UNAGI/data/example/{each}.h5ad', compression='gzip', compression_opts=9)"
   ]
  }
 ],
 "metadata": {
  "language_info": {
   "name": "python"
  }
 },
 "nbformat": 4,
 "nbformat_minor": 2
}
