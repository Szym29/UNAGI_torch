{
 "cells": [
  {
   "cell_type": "markdown",
   "metadata": {},
   "source": [
    "# Dataset preparation\n",
    "\n",
    "**All datasets should be stored in the ./data/ folder**\n",
    "\n",
    "This tutorial offers a step-by-step guide on how to prepare your single-cell datasets for training with the UNAGI model and for subsequent analysis.\n",
    "\n",
    "The initial step in utilizing UNAGI involves appending time point attributes to the annData object. These time points should be sequentially organized as [0, 1, 2, ..., n]. Following this, segment the data into distinct stages."
   ]
  },
  {
   "cell_type": "code",
   "execution_count": null,
   "metadata": {},
   "outputs": [],
   "source": [
    "import scanpy as sc\n",
    "import os\n",
    "PROJECT_NAME = 'your_project_name'\n",
    "PATH_TO_YOUR_DATA = 'your_data.h5ad'\n",
    "adata = sc.read(PATH_TO_YOUR_DATA)\n",
    "adata.obs['stage'] = None\n",
    "\n",
    "#Assuming the dataset has 3 batches, each with a different time point\n",
    "adata.obs.loc[adata.obs['batch'] == 'batch1', 'stage'] = '0'\n",
    "adata.obs.loc[adata.obs['batch'] == 'batch2', 'stage'] = '1'\n",
    "adata.obs.loc[adata.obs['batch'] == 'batch3', 'stage'] = '2'\n",
    "#....\n",
    "\n",
    "for each in list(adata.obs['stage'].unique()):\n",
    "    stage_adata = adata[adata.obs['stage'] == each]\n",
    "    os.mkdir(f'../data/{PROJECT_NAME}')\n",
    "    stage_adata.write(f'../data/{PROJECT_NAME}/{each}.h5ad', compression='gzip', compression_opts=9)"
   ]
  }
 ],
 "metadata": {
  "language_info": {
   "name": "python"
  }
 },
 "nbformat": 4,
 "nbformat_minor": 2
}
